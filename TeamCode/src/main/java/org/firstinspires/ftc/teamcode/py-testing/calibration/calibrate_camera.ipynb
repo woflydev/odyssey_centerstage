{
 "cells": [
  {
   "cell_type": "markdown",
   "metadata": {},
   "source": [
    "# Camera Calibration\n",
    "<b>woflydev | FTC 17556</b>"
   ]
  },
  {
   "cell_type": "markdown",
   "metadata": {},
   "source": [
    "### Import Packages"
   ]
  },
  {
   "cell_type": "code",
   "execution_count": 36,
   "metadata": {},
   "outputs": [],
   "source": [
    "import numpy as np\n",
    "import cv2\n",
    "import glob\n",
    "import pickle\n",
    "import collections\n",
    "import matplotlib.pyplot as plt\n",
    "import matplotlib.image as mpimg"
   ]
  },
  {
   "cell_type": "markdown",
   "metadata": {},
   "source": [
    "### Calibrate"
   ]
  },
  {
   "cell_type": "markdown",
   "metadata": {},
   "source": [
    "Extract `objpoints` and `imgpoints` using images of calibration grid taken from the camera."
   ]
  },
  {
   "cell_type": "code",
   "execution_count": 48,
   "metadata": {},
   "outputs": [
    {
     "name": "stdout",
     "output_type": "stream",
     "text": [
      "False\n",
      "False\n"
     ]
    }
   ],
   "source": [
    "cell_size = 0.07 # Size of the square cell (should not affect the result)\n",
    "objp = np.zeros((6*9,3), np.float32) # Using a 6x9 grid image for calibration\n",
    "objp[:,:2] = np.mgrid[0:9,0:6].T.reshape(-1,2)*cell_size # Grid points\n",
    "\n",
    "# Arrays to store object points and image points from all the images\n",
    "objpoints = [] # 3D points in real world space\n",
    "imgpoints = [] # 2D points in image plane\n",
    "\n",
    "# Make a list of calibration images\n",
    "images = glob.glob('C:\\\\Users\\\\User\\\\Desktop\\\\odyssey_centrestage\\\\TeamCode\\\\src\\\\main\\\\java\\\\org\\\\firstinspires\\\\ftc\\\\teamcode\\\\py-testing\\\\calibration\\\\images\\\\*.jpg')\n",
    "\n",
    "# Step through the list and search for grid corners\n",
    "for image in images:\n",
    "    img = mpimg.imread(image)\n",
    "    gray_img = cv2.cvtColor(img,cv2.COLOR_RGB2GRAY)\n",
    "\n",
    "    # Find the grid corners\n",
    "    ret, corners = cv2.findChessboardCorners(gray_img, (9,6),None)\n",
    "\n",
    "    print(ret)\n",
    "    # If found, append object points and image points to the respective arrays\n",
    "    if ret == True:\n",
    "        objpoints.append(objp)\n",
    "        imgpoints.append(corners)\n",
    "\n",
    "        # Draw and display the corners\n",
    "        img = cv2.drawChessboardCorners(img, (9,6), corners, ret)\n",
    "        cv2.imshow('Corner Detection',img)\n",
    "        cv2.waitKey(500) # Viewing delay in milliseconds\n",
    "\n",
    "cv2.destroyAllWindows()"
   ]
  },
  {
   "cell_type": "markdown",
   "metadata": {},
   "source": [
    "Use the `objpoints` and `imgpoints` to calibrate the camera for a specified `imgsize`."
   ]
  },
  {
   "cell_type": "code",
   "execution_count": 45,
   "metadata": {
    "scrolled": true
   },
   "outputs": [
    {
     "ename": "error",
     "evalue": "OpenCV(4.8.0) D:\\a\\opencv-python\\opencv-python\\opencv\\modules\\calib3d\\src\\calibration.cpp:3412: error: (-201:Incorrect size of input array) imagePoints1 should not contain empty vector of vectors of points in function 'cv::collectCalibrationData'\n",
     "output_type": "error",
     "traceback": [
      "\u001b[1;31m---------------------------------------------------------------------------\u001b[0m",
      "\u001b[1;31merror\u001b[0m                                     Traceback (most recent call last)",
      "\u001b[1;32mc:\\Users\\User\\Desktop\\odyssey_centrestage\\TeamCode\\src\\main\\java\\org\\firstinspires\\ftc\\teamcode\\py-testing\\calibration\\calibrate_camera.ipynb Cell 8\u001b[0m line \u001b[0;36m4\n\u001b[0;32m      <a href='vscode-notebook-cell:/c%3A/Users/User/Desktop/odyssey_centrestage/TeamCode/src/main/java/org/firstinspires/ftc/teamcode/py-testing/calibration/calibrate_camera.ipynb#X10sZmlsZQ%3D%3D?line=0'>1</a>\u001b[0m img \u001b[39m=\u001b[39m mpimg\u001b[39m.\u001b[39mimread(\u001b[39m'\u001b[39m\u001b[39mimages/1.jpg\u001b[39m\u001b[39m'\u001b[39m) \u001b[39m# Read in a test calibration image\u001b[39;00m\n\u001b[0;32m      <a href='vscode-notebook-cell:/c%3A/Users/User/Desktop/odyssey_centrestage/TeamCode/src/main/java/org/firstinspires/ftc/teamcode/py-testing/calibration/calibrate_camera.ipynb#X10sZmlsZQ%3D%3D?line=1'>2</a>\u001b[0m img_size \u001b[39m=\u001b[39m (img\u001b[39m.\u001b[39mshape[\u001b[39m1\u001b[39m], img\u001b[39m.\u001b[39mshape[\u001b[39m0\u001b[39m]) \u001b[39m# Get the image dimensions\u001b[39;00m\n\u001b[1;32m----> <a href='vscode-notebook-cell:/c%3A/Users/User/Desktop/odyssey_centrestage/TeamCode/src/main/java/org/firstinspires/ftc/teamcode/py-testing/calibration/calibrate_camera.ipynb#X10sZmlsZQ%3D%3D?line=3'>4</a>\u001b[0m ret, mtx, dist, rvecs, tvecs \u001b[39m=\u001b[39m cv2\u001b[39m.\u001b[39;49mcalibrateCamera(objpoints, imgpoints, img_size, \u001b[39mNone\u001b[39;49;00m, \u001b[39mNone\u001b[39;49;00m) \u001b[39m# Calibrate the camera\u001b[39;00m\n\u001b[0;32m      <a href='vscode-notebook-cell:/c%3A/Users/User/Desktop/odyssey_centrestage/TeamCode/src/main/java/org/firstinspires/ftc/teamcode/py-testing/calibration/calibrate_camera.ipynb#X10sZmlsZQ%3D%3D?line=5'>6</a>\u001b[0m \u001b[39m# Print the camera calibration result\u001b[39;00m\n\u001b[0;32m      <a href='vscode-notebook-cell:/c%3A/Users/User/Desktop/odyssey_centrestage/TeamCode/src/main/java/org/firstinspires/ftc/teamcode/py-testing/calibration/calibrate_camera.ipynb#X10sZmlsZQ%3D%3D?line=6'>7</a>\u001b[0m \u001b[39mprint\u001b[39m(\u001b[39m'\u001b[39m\u001b[39mDistortion Coefficients:\u001b[39m\u001b[39m'\u001b[39m)\n",
      "\u001b[1;31merror\u001b[0m: OpenCV(4.8.0) D:\\a\\opencv-python\\opencv-python\\opencv\\modules\\calib3d\\src\\calibration.cpp:3412: error: (-201:Incorrect size of input array) imagePoints1 should not contain empty vector of vectors of points in function 'cv::collectCalibrationData'\n"
     ]
    }
   ],
   "source": [
    "img = mpimg.imread('images/1.jpg') # Read in a test calibration image\n",
    "img_size = (img.shape[1], img.shape[0]) # Get the image dimensions\n",
    "\n",
    "ret, mtx, dist, rvecs, tvecs = cv2.calibrateCamera(objpoints, imgpoints, img_size, None, None) # Calibrate the camera\n",
    "\n",
    "# Print the camera calibration result\n",
    "print('Distortion Coefficients:')\n",
    "print('dist = \\n' + str(dist))\n",
    "print('')\n",
    "\n",
    "print('Camera Intrinsic Parameters:')\n",
    "print('mtx = \\n' + str(mtx))\n",
    "print('')\n",
    "\n",
    "print('Camera Extrinsic Parameters:')\n",
    "print('rvecs = \\n' + str(rvecs))\n",
    "print('')\n",
    "print('tvecs = \\n' + str(tvecs))\n",
    "\n",
    "# Save the camera calibration result for later use\n",
    "camera_pickle = {}\n",
    "camera_pickle[\"mtx\"] = mtx\n",
    "camera_pickle[\"dist\"] = dist\n",
    "camera_pickle[\"rvecs\"] = rvecs\n",
    "camera_pickle[\"tvecs\"] = tvecs\n",
    "pickle.dump(camera_pickle, open(\"Camera Parameters.p\", \"wb\"))"
   ]
  },
  {
   "cell_type": "markdown",
   "metadata": {},
   "source": [
    "Undistort a test calibration image (sanity check)."
   ]
  },
  {
   "cell_type": "code",
   "execution_count": 6,
   "metadata": {},
   "outputs": [
    {
     "ename": "NameError",
     "evalue": "name 'mtx' is not defined",
     "output_type": "error",
     "traceback": [
      "\u001b[1;31m---------------------------------------------------------------------------\u001b[0m",
      "\u001b[1;31mNameError\u001b[0m                                 Traceback (most recent call last)",
      "\u001b[1;32mc:\\Users\\User\\Desktop\\odyssey_centrestage\\TeamCode\\src\\main\\java\\org\\firstinspires\\ftc\\teamcode\\py-testing\\calibration\\calibrate_camera.ipynb Cell 10\u001b[0m line \u001b[0;36m4\n\u001b[0;32m      <a href='vscode-notebook-cell:/c%3A/Users/User/Desktop/odyssey_centrestage/TeamCode/src/main/java/org/firstinspires/ftc/teamcode/py-testing/calibration/calibrate_camera.ipynb#X12sZmlsZQ%3D%3D?line=0'>1</a>\u001b[0m IMAGE_INDEX \u001b[39m=\u001b[39m \u001b[39m7\u001b[39m\n\u001b[0;32m      <a href='vscode-notebook-cell:/c%3A/Users/User/Desktop/odyssey_centrestage/TeamCode/src/main/java/org/firstinspires/ftc/teamcode/py-testing/calibration/calibrate_camera.ipynb#X12sZmlsZQ%3D%3D?line=2'>3</a>\u001b[0m img \u001b[39m=\u001b[39m mpimg\u001b[39m.\u001b[39mimread(\u001b[39mf\u001b[39m\u001b[39m'\u001b[39m\u001b[39mimages/\u001b[39m\u001b[39m{\u001b[39;00mIMAGE_INDEX\u001b[39m}\u001b[39;00m\u001b[39m.jpg\u001b[39m\u001b[39m'\u001b[39m) \u001b[39m# Read in a test calibration image\u001b[39;00m\n\u001b[1;32m----> <a href='vscode-notebook-cell:/c%3A/Users/User/Desktop/odyssey_centrestage/TeamCode/src/main/java/org/firstinspires/ftc/teamcode/py-testing/calibration/calibrate_camera.ipynb#X12sZmlsZQ%3D%3D?line=3'>4</a>\u001b[0m undistorted_image \u001b[39m=\u001b[39m cv2\u001b[39m.\u001b[39mundistort(img, mtx, dist, \u001b[39mNone\u001b[39;00m, mtx) \u001b[39m# Generate the undistorted image\u001b[39;00m\n\u001b[0;32m      <a href='vscode-notebook-cell:/c%3A/Users/User/Desktop/odyssey_centrestage/TeamCode/src/main/java/org/firstinspires/ftc/teamcode/py-testing/calibration/calibrate_camera.ipynb#X12sZmlsZQ%3D%3D?line=4'>5</a>\u001b[0m \u001b[39mprint\u001b[39m(\u001b[39mf\u001b[39m\u001b[39m\"\u001b[39m\u001b[39mUsed: \u001b[39m\u001b[39m{\u001b[39;00mmtx\u001b[39m}\u001b[39;00m\u001b[39m AND \u001b[39m\u001b[39m{\u001b[39;00mdist\u001b[39m}\u001b[39;00m\u001b[39m\"\u001b[39m)\n\u001b[0;32m      <a href='vscode-notebook-cell:/c%3A/Users/User/Desktop/odyssey_centrestage/TeamCode/src/main/java/org/firstinspires/ftc/teamcode/py-testing/calibration/calibrate_camera.ipynb#X12sZmlsZQ%3D%3D?line=6'>7</a>\u001b[0m \u001b[39m# Plot inline\u001b[39;00m\n",
      "\u001b[1;31mNameError\u001b[0m: name 'mtx' is not defined"
     ]
    }
   ],
   "source": [
    "IMAGE_INDEX = 7\n",
    "\n",
    "img = mpimg.imread(f'images/{IMAGE_INDEX}.jpg') # Read in a test calibration image\n",
    "undistorted_image = cv2.undistort(img, mtx, dist, None, mtx) # Generate the undistorted image\n",
    "print(f\"Used: {mtx} AND {dist}\")\n",
    "\n",
    "# Plot inline\n",
    "%matplotlib inline\n",
    "# View the results side-by-side\n",
    "f, (ax1, ax2) = plt.subplots(1, 2, figsize=(10, 5))\n",
    "f.tight_layout()\n",
    "ax1.imshow(img)\n",
    "ax1.set_title('Original Image', fontsize=20)\n",
    "ax2.imshow(undistorted_image)\n",
    "ax2.set_title('Undistorted Image', fontsize=20)\n",
    "plt.subplots_adjust(left=0.0, right=1.0, top=0.9, bottom=0.0)\n",
    "plt.show()\n",
    "\n",
    "# USE MTX AS CAMERA INTRINSIC VALUES"
   ]
  }
 ],
 "metadata": {
  "anaconda-cloud": {},
  "kernelspec": {
   "display_name": "Python 3",
   "language": "python",
   "name": "python3"
  },
  "language_info": {
   "codemirror_mode": {
    "name": "ipython",
    "version": 3
   },
   "file_extension": ".py",
   "mimetype": "text/x-python",
   "name": "python",
   "nbconvert_exporter": "python",
   "pygments_lexer": "ipython3",
   "version": "3.11.4"
  }
 },
 "nbformat": 4,
 "nbformat_minor": 1
}
